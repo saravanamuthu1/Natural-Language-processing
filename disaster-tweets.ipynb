{
 "cells": [
  {
   "cell_type": "raw",
   "id": "fd643cd4",
   "metadata": {
    "_cell_guid": "b1076dfc-b9ad-4769-8c92-a6c4dae69d19",
    "_uuid": "8f2839f25d086af736a60e9eeb907d3b93b6e0e5",
    "papermill": {
     "duration": 0.005428,
     "end_time": "2023-01-19T05:43:10.651730",
     "exception": false,
     "start_time": "2023-01-19T05:43:10.646302",
     "status": "completed"
    },
    "tags": []
   },
   "source": [
    "# This Python 3 environment comes with many helpful analytics libraries installed\n",
    "# It is defined by the kaggle/python Docker image: https://github.com/kaggle/docker-python\n",
    "# For example, here's several helpful packages to load\n",
    "\n",
    "import numpy as np # linear algebra\n",
    "import pandas as pd # data processing, CSV file I/O (e.g. pd.read_csv)\n",
    "\n",
    "# Input data files are available in the read-only \"../input/\" directory\n",
    "# For example, running this (by clicking run or pressing Shift+Enter) will list all files under the input directory\n",
    "\n",
    "import os\n",
    "for dirname, _, filenames in os.walk('/kaggle/input'):\n",
    "    for filename in filenames:\n",
    "        print(os.path.join(dirname, filename))\n",
    "\n",
    "# You can write up to 20GB to the current directory (/kaggle/working/) that gets preserved as output when you create a version using \"Save & Run All\" \n",
    "# You can also write temporary files to /kaggle/temp/, but they won't be saved outside of the current session"
   ]
  },
  {
   "cell_type": "code",
   "execution_count": 1,
   "id": "eb0cbdec",
   "metadata": {
    "execution": {
     "iopub.execute_input": "2023-01-19T05:43:10.663437Z",
     "iopub.status.busy": "2023-01-19T05:43:10.662107Z",
     "iopub.status.idle": "2023-01-19T05:43:12.208198Z",
     "shell.execute_reply": "2023-01-19T05:43:12.206545Z"
    },
    "papermill": {
     "duration": 1.554884,
     "end_time": "2023-01-19T05:43:12.211062",
     "exception": false,
     "start_time": "2023-01-19T05:43:10.656178",
     "status": "completed"
    },
    "tags": []
   },
   "outputs": [],
   "source": [
    "import pandas as pd\n",
    "import numpy as np\n",
    "import re\n",
    "from nltk.tokenize import word_tokenize\n",
    "from sklearn.feature_extraction.text import TfidfVectorizer\n",
    "from sklearn.naive_bayes import MultinomialNB\n",
    "from sklearn.pipeline import Pipeline"
   ]
  },
  {
   "cell_type": "code",
   "execution_count": 2,
   "id": "facb94ee",
   "metadata": {
    "execution": {
     "iopub.execute_input": "2023-01-19T05:43:12.222997Z",
     "iopub.status.busy": "2023-01-19T05:43:12.222340Z",
     "iopub.status.idle": "2023-01-19T05:43:12.294916Z",
     "shell.execute_reply": "2023-01-19T05:43:12.293958Z"
    },
    "papermill": {
     "duration": 0.081352,
     "end_time": "2023-01-19T05:43:12.297610",
     "exception": false,
     "start_time": "2023-01-19T05:43:12.216258",
     "status": "completed"
    },
    "tags": []
   },
   "outputs": [],
   "source": [
    "df_train= pd.read_csv('../input/nlp-getting-started/train.csv')\n",
    "df_test=pd.read_csv('../input/nlp-getting-started/test.csv')"
   ]
  },
  {
   "cell_type": "code",
   "execution_count": 3,
   "id": "567fc9cc",
   "metadata": {
    "execution": {
     "iopub.execute_input": "2023-01-19T05:43:12.308583Z",
     "iopub.status.busy": "2023-01-19T05:43:12.308115Z",
     "iopub.status.idle": "2023-01-19T05:43:12.334808Z",
     "shell.execute_reply": "2023-01-19T05:43:12.333655Z"
    },
    "papermill": {
     "duration": 0.034999,
     "end_time": "2023-01-19T05:43:12.337295",
     "exception": false,
     "start_time": "2023-01-19T05:43:12.302296",
     "status": "completed"
    },
    "tags": []
   },
   "outputs": [
    {
     "data": {
      "text/html": [
       "<div>\n",
       "<style scoped>\n",
       "    .dataframe tbody tr th:only-of-type {\n",
       "        vertical-align: middle;\n",
       "    }\n",
       "\n",
       "    .dataframe tbody tr th {\n",
       "        vertical-align: top;\n",
       "    }\n",
       "\n",
       "    .dataframe thead th {\n",
       "        text-align: right;\n",
       "    }\n",
       "</style>\n",
       "<table border=\"1\" class=\"dataframe\">\n",
       "  <thead>\n",
       "    <tr style=\"text-align: right;\">\n",
       "      <th></th>\n",
       "      <th>id</th>\n",
       "      <th>keyword</th>\n",
       "      <th>location</th>\n",
       "      <th>text</th>\n",
       "    </tr>\n",
       "  </thead>\n",
       "  <tbody>\n",
       "    <tr>\n",
       "      <th>0</th>\n",
       "      <td>0</td>\n",
       "      <td>NaN</td>\n",
       "      <td>NaN</td>\n",
       "      <td>Just happened a terrible car crash</td>\n",
       "    </tr>\n",
       "    <tr>\n",
       "      <th>1</th>\n",
       "      <td>2</td>\n",
       "      <td>NaN</td>\n",
       "      <td>NaN</td>\n",
       "      <td>Heard about #earthquake is different cities, s...</td>\n",
       "    </tr>\n",
       "    <tr>\n",
       "      <th>2</th>\n",
       "      <td>3</td>\n",
       "      <td>NaN</td>\n",
       "      <td>NaN</td>\n",
       "      <td>there is a forest fire at spot pond, geese are...</td>\n",
       "    </tr>\n",
       "    <tr>\n",
       "      <th>3</th>\n",
       "      <td>9</td>\n",
       "      <td>NaN</td>\n",
       "      <td>NaN</td>\n",
       "      <td>Apocalypse lighting. #Spokane #wildfires</td>\n",
       "    </tr>\n",
       "    <tr>\n",
       "      <th>4</th>\n",
       "      <td>11</td>\n",
       "      <td>NaN</td>\n",
       "      <td>NaN</td>\n",
       "      <td>Typhoon Soudelor kills 28 in China and Taiwan</td>\n",
       "    </tr>\n",
       "    <tr>\n",
       "      <th>...</th>\n",
       "      <td>...</td>\n",
       "      <td>...</td>\n",
       "      <td>...</td>\n",
       "      <td>...</td>\n",
       "    </tr>\n",
       "    <tr>\n",
       "      <th>3258</th>\n",
       "      <td>10861</td>\n",
       "      <td>NaN</td>\n",
       "      <td>NaN</td>\n",
       "      <td>EARTHQUAKE SAFETY LOS ANGELES ÛÒ SAFETY FASTE...</td>\n",
       "    </tr>\n",
       "    <tr>\n",
       "      <th>3259</th>\n",
       "      <td>10865</td>\n",
       "      <td>NaN</td>\n",
       "      <td>NaN</td>\n",
       "      <td>Storm in RI worse than last hurricane. My city...</td>\n",
       "    </tr>\n",
       "    <tr>\n",
       "      <th>3260</th>\n",
       "      <td>10868</td>\n",
       "      <td>NaN</td>\n",
       "      <td>NaN</td>\n",
       "      <td>Green Line derailment in Chicago http://t.co/U...</td>\n",
       "    </tr>\n",
       "    <tr>\n",
       "      <th>3261</th>\n",
       "      <td>10874</td>\n",
       "      <td>NaN</td>\n",
       "      <td>NaN</td>\n",
       "      <td>MEG issues Hazardous Weather Outlook (HWO) htt...</td>\n",
       "    </tr>\n",
       "    <tr>\n",
       "      <th>3262</th>\n",
       "      <td>10875</td>\n",
       "      <td>NaN</td>\n",
       "      <td>NaN</td>\n",
       "      <td>#CityofCalgary has activated its Municipal Eme...</td>\n",
       "    </tr>\n",
       "  </tbody>\n",
       "</table>\n",
       "<p>3263 rows × 4 columns</p>\n",
       "</div>"
      ],
      "text/plain": [
       "         id keyword location  \\\n",
       "0         0     NaN      NaN   \n",
       "1         2     NaN      NaN   \n",
       "2         3     NaN      NaN   \n",
       "3         9     NaN      NaN   \n",
       "4        11     NaN      NaN   \n",
       "...     ...     ...      ...   \n",
       "3258  10861     NaN      NaN   \n",
       "3259  10865     NaN      NaN   \n",
       "3260  10868     NaN      NaN   \n",
       "3261  10874     NaN      NaN   \n",
       "3262  10875     NaN      NaN   \n",
       "\n",
       "                                                   text  \n",
       "0                    Just happened a terrible car crash  \n",
       "1     Heard about #earthquake is different cities, s...  \n",
       "2     there is a forest fire at spot pond, geese are...  \n",
       "3              Apocalypse lighting. #Spokane #wildfires  \n",
       "4         Typhoon Soudelor kills 28 in China and Taiwan  \n",
       "...                                                 ...  \n",
       "3258  EARTHQUAKE SAFETY LOS ANGELES ÛÒ SAFETY FASTE...  \n",
       "3259  Storm in RI worse than last hurricane. My city...  \n",
       "3260  Green Line derailment in Chicago http://t.co/U...  \n",
       "3261  MEG issues Hazardous Weather Outlook (HWO) htt...  \n",
       "3262  #CityofCalgary has activated its Municipal Eme...  \n",
       "\n",
       "[3263 rows x 4 columns]"
      ]
     },
     "execution_count": 3,
     "metadata": {},
     "output_type": "execute_result"
    }
   ],
   "source": [
    "df_test"
   ]
  },
  {
   "cell_type": "code",
   "execution_count": 4,
   "id": "43fec39d",
   "metadata": {
    "execution": {
     "iopub.execute_input": "2023-01-19T05:43:12.349802Z",
     "iopub.status.busy": "2023-01-19T05:43:12.348676Z",
     "iopub.status.idle": "2023-01-19T05:43:12.358180Z",
     "shell.execute_reply": "2023-01-19T05:43:12.357123Z"
    },
    "papermill": {
     "duration": 0.018273,
     "end_time": "2023-01-19T05:43:12.360837",
     "exception": false,
     "start_time": "2023-01-19T05:43:12.342564",
     "status": "completed"
    },
    "tags": []
   },
   "outputs": [],
   "source": [
    "# Use train_test_split to split training data into training and validation sets\n",
    "train_sentences =df_train[\"text\"].to_numpy()\n",
    "train_labels = df_train[\"target\"].to_numpy()\n",
    "# Create tokenization and modelling pipeline\n",
    "model_0 = Pipeline([\n",
    "                    (\"tfidf\", TfidfVectorizer()), # convert words to numbers using tfidf\n",
    "                    (\"clf\", MultinomialNB()) # model the text\n",
    "])"
   ]
  },
  {
   "cell_type": "code",
   "execution_count": 5,
   "id": "9bf84372",
   "metadata": {
    "execution": {
     "iopub.execute_input": "2023-01-19T05:43:12.372340Z",
     "iopub.status.busy": "2023-01-19T05:43:12.371927Z",
     "iopub.status.idle": "2023-01-19T05:43:12.377204Z",
     "shell.execute_reply": "2023-01-19T05:43:12.376171Z"
    },
    "papermill": {
     "duration": 0.01347,
     "end_time": "2023-01-19T05:43:12.379356",
     "exception": false,
     "start_time": "2023-01-19T05:43:12.365886",
     "status": "completed"
    },
    "tags": []
   },
   "outputs": [],
   "source": [
    "test_sentences = df_test[\"text\"].to_numpy()\n"
   ]
  },
  {
   "cell_type": "code",
   "execution_count": 6,
   "id": "05caa0a2",
   "metadata": {
    "execution": {
     "iopub.execute_input": "2023-01-19T05:43:12.390252Z",
     "iopub.status.busy": "2023-01-19T05:43:12.389928Z",
     "iopub.status.idle": "2023-01-19T05:43:12.395998Z",
     "shell.execute_reply": "2023-01-19T05:43:12.394930Z"
    },
    "papermill": {
     "duration": 0.013979,
     "end_time": "2023-01-19T05:43:12.398093",
     "exception": false,
     "start_time": "2023-01-19T05:43:12.384114",
     "status": "completed"
    },
    "tags": []
   },
   "outputs": [],
   "source": [
    "def clean_dataset(value):\n",
    "  dataset=[]\n",
    "  emoji_pattern = re.compile(\"[\"\n",
    "                           u\"\\U0001F600-\\U0001F64F\"  # emoticons\n",
    "                           u\"\\U0001F300-\\U0001F5FF\"  # symbols & pictographs\n",
    "                           u\"\\U0001F680-\\U0001F6FF\"  # transport & map symbols\n",
    "                           u\"\\U0001F1E0-\\U0001F1FF\"  # flags (iOS)\n",
    "                           u\"\\U00002702-\\U000027B0\"\n",
    "                           u\"\\U000024C2-\\U0001F251\"\n",
    "                           \"]+\", flags=re.UNICODE)\n",
    "  for i in value:\n",
    "    text=re.sub(r\"(@\\[A-Za-z0-9]+)|([^0-9A-Za-z \\t])|(\\w+:\\/\\/\\S+)|^rt|http.+?\", \"\", i)\n",
    "    text=emoji_pattern.sub(r'', text)\n",
    "    text=text.lower()\n",
    "    dataset.append(text)\n",
    "  return dataset"
   ]
  },
  {
   "cell_type": "code",
   "execution_count": 7,
   "id": "9bb91f08",
   "metadata": {
    "execution": {
     "iopub.execute_input": "2023-01-19T05:43:12.408985Z",
     "iopub.status.busy": "2023-01-19T05:43:12.408302Z",
     "iopub.status.idle": "2023-01-19T05:43:12.536301Z",
     "shell.execute_reply": "2023-01-19T05:43:12.535450Z"
    },
    "papermill": {
     "duration": 0.136616,
     "end_time": "2023-01-19T05:43:12.539247",
     "exception": false,
     "start_time": "2023-01-19T05:43:12.402631",
     "status": "completed"
    },
    "tags": []
   },
   "outputs": [],
   "source": [
    "cleaned_train_data=clean_dataset(train_sentences)"
   ]
  },
  {
   "cell_type": "code",
   "execution_count": 8,
   "id": "8775c760",
   "metadata": {
    "execution": {
     "iopub.execute_input": "2023-01-19T05:43:12.556436Z",
     "iopub.status.busy": "2023-01-19T05:43:12.555721Z",
     "iopub.status.idle": "2023-01-19T05:43:12.751057Z",
     "shell.execute_reply": "2023-01-19T05:43:12.749763Z"
    },
    "papermill": {
     "duration": 0.207232,
     "end_time": "2023-01-19T05:43:12.753690",
     "exception": false,
     "start_time": "2023-01-19T05:43:12.546458",
     "status": "completed"
    },
    "tags": []
   },
   "outputs": [
    {
     "data": {
      "text/plain": [
       "Pipeline(steps=[('tfidf', TfidfVectorizer()), ('clf', MultinomialNB())])"
      ]
     },
     "execution_count": 8,
     "metadata": {},
     "output_type": "execute_result"
    }
   ],
   "source": [
    "model_0.fit(cleaned_train_data,train_labels)"
   ]
  },
  {
   "cell_type": "code",
   "execution_count": 9,
   "id": "074fe732",
   "metadata": {
    "execution": {
     "iopub.execute_input": "2023-01-19T05:43:12.765723Z",
     "iopub.status.busy": "2023-01-19T05:43:12.765189Z",
     "iopub.status.idle": "2023-01-19T05:43:12.824915Z",
     "shell.execute_reply": "2023-01-19T05:43:12.824017Z"
    },
    "papermill": {
     "duration": 0.068993,
     "end_time": "2023-01-19T05:43:12.827575",
     "exception": false,
     "start_time": "2023-01-19T05:43:12.758582",
     "status": "completed"
    },
    "tags": []
   },
   "outputs": [],
   "source": [
    "cleaned_test_data=clean_dataset(test_sentences)"
   ]
  },
  {
   "cell_type": "code",
   "execution_count": 10,
   "id": "848a4252",
   "metadata": {
    "execution": {
     "iopub.execute_input": "2023-01-19T05:43:12.839023Z",
     "iopub.status.busy": "2023-01-19T05:43:12.838627Z",
     "iopub.status.idle": "2023-01-19T05:43:12.893181Z",
     "shell.execute_reply": "2023-01-19T05:43:12.892095Z"
    },
    "papermill": {
     "duration": 0.062725,
     "end_time": "2023-01-19T05:43:12.895281",
     "exception": false,
     "start_time": "2023-01-19T05:43:12.832556",
     "status": "completed"
    },
    "tags": []
   },
   "outputs": [
    {
     "data": {
      "text/plain": [
       "array([1, 0, 1, ..., 1, 1, 1])"
      ]
     },
     "execution_count": 10,
     "metadata": {},
     "output_type": "execute_result"
    }
   ],
   "source": [
    "baseline = model_0.predict(cleaned_test_data)\n",
    "baseline"
   ]
  },
  {
   "cell_type": "code",
   "execution_count": 11,
   "id": "dd10f65b",
   "metadata": {
    "execution": {
     "iopub.execute_input": "2023-01-19T05:43:12.906601Z",
     "iopub.status.busy": "2023-01-19T05:43:12.906233Z",
     "iopub.status.idle": "2023-01-19T05:43:13.024660Z",
     "shell.execute_reply": "2023-01-19T05:43:13.023921Z"
    },
    "papermill": {
     "duration": 0.126394,
     "end_time": "2023-01-19T05:43:13.026671",
     "exception": false,
     "start_time": "2023-01-19T05:43:12.900277",
     "status": "completed"
    },
    "tags": []
   },
   "outputs": [
    {
     "data": {
      "text/plain": [
       "array([1, 1, 1, ..., 1, 1, 1])"
      ]
     },
     "execution_count": 11,
     "metadata": {},
     "output_type": "execute_result"
    }
   ],
   "source": [
    "train_prediction = model_0.predict(cleaned_train_data)\n",
    "train_prediction"
   ]
  },
  {
   "cell_type": "code",
   "execution_count": 12,
   "id": "5855118d",
   "metadata": {
    "execution": {
     "iopub.execute_input": "2023-01-19T05:43:13.038084Z",
     "iopub.status.busy": "2023-01-19T05:43:13.037718Z",
     "iopub.status.idle": "2023-01-19T05:43:13.042080Z",
     "shell.execute_reply": "2023-01-19T05:43:13.041108Z"
    },
    "papermill": {
     "duration": 0.012481,
     "end_time": "2023-01-19T05:43:13.044172",
     "exception": false,
     "start_time": "2023-01-19T05:43:13.031691",
     "status": "completed"
    },
    "tags": []
   },
   "outputs": [],
   "source": [
    "from sklearn.metrics import accuracy_score"
   ]
  },
  {
   "cell_type": "code",
   "execution_count": 13,
   "id": "db4c0f79",
   "metadata": {
    "execution": {
     "iopub.execute_input": "2023-01-19T05:43:13.055597Z",
     "iopub.status.busy": "2023-01-19T05:43:13.055263Z",
     "iopub.status.idle": "2023-01-19T05:43:13.062199Z",
     "shell.execute_reply": "2023-01-19T05:43:13.061250Z"
    },
    "papermill": {
     "duration": 0.01531,
     "end_time": "2023-01-19T05:43:13.064461",
     "exception": false,
     "start_time": "2023-01-19T05:43:13.049151",
     "status": "completed"
    },
    "tags": []
   },
   "outputs": [
    {
     "data": {
      "text/plain": [
       "0.8838828319978983"
      ]
     },
     "execution_count": 13,
     "metadata": {},
     "output_type": "execute_result"
    }
   ],
   "source": [
    "accuracy_score(train_prediction,train_labels)"
   ]
  },
  {
   "cell_type": "code",
   "execution_count": 14,
   "id": "2a1b88c9",
   "metadata": {
    "execution": {
     "iopub.execute_input": "2023-01-19T05:43:13.077276Z",
     "iopub.status.busy": "2023-01-19T05:43:13.076901Z",
     "iopub.status.idle": "2023-01-19T05:43:13.081881Z",
     "shell.execute_reply": "2023-01-19T05:43:13.080863Z"
    },
    "papermill": {
     "duration": 0.014672,
     "end_time": "2023-01-19T05:43:13.084094",
     "exception": false,
     "start_time": "2023-01-19T05:43:13.069422",
     "status": "completed"
    },
    "tags": []
   },
   "outputs": [],
   "source": [
    "test_id= df_test[\"id\"].to_numpy()"
   ]
  },
  {
   "cell_type": "code",
   "execution_count": 15,
   "id": "62e4e869",
   "metadata": {
    "execution": {
     "iopub.execute_input": "2023-01-19T05:43:13.096285Z",
     "iopub.status.busy": "2023-01-19T05:43:13.095917Z",
     "iopub.status.idle": "2023-01-19T05:43:13.107729Z",
     "shell.execute_reply": "2023-01-19T05:43:13.106750Z"
    },
    "papermill": {
     "duration": 0.021038,
     "end_time": "2023-01-19T05:43:13.110143",
     "exception": false,
     "start_time": "2023-01-19T05:43:13.089105",
     "status": "completed"
    },
    "tags": []
   },
   "outputs": [],
   "source": [
    "submission = pd.DataFrame({'id':test_id, 'target':baseline.flatten()})\n",
    "submission.to_csv(\"submission.csv\", index=False)"
   ]
  }
 ],
 "metadata": {
  "kernelspec": {
   "display_name": "Python 3",
   "language": "python",
   "name": "python3"
  },
  "language_info": {
   "codemirror_mode": {
    "name": "ipython",
    "version": 3
   },
   "file_extension": ".py",
   "mimetype": "text/x-python",
   "name": "python",
   "nbconvert_exporter": "python",
   "pygments_lexer": "ipython3",
   "version": "3.7.12"
  },
  "papermill": {
   "default_parameters": {},
   "duration": 11.502987,
   "end_time": "2023-01-19T05:43:13.837586",
   "environment_variables": {},
   "exception": null,
   "input_path": "__notebook__.ipynb",
   "output_path": "__notebook__.ipynb",
   "parameters": {},
   "start_time": "2023-01-19T05:43:02.334599",
   "version": "2.3.4"
  }
 },
 "nbformat": 4,
 "nbformat_minor": 5
}
